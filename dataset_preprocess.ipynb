{
 "cells": [
  {
   "cell_type": "markdown",
   "id": "f0dcdde5",
   "metadata": {},
   "source": [
    "## Installation"
   ]
  },
  {
   "cell_type": "code",
   "execution_count": 2,
   "id": "f7acd85e",
   "metadata": {
    "scrolled": true
   },
   "outputs": [
    {
     "name": "stdout",
     "output_type": "stream",
     "text": [
      "Collecting moviepy\n",
      "  Downloading moviepy-1.0.3.tar.gz (388 kB)\n",
      "Collecting decorator<5.0,>=4.0.2\n",
      "  Downloading decorator-4.4.2-py2.py3-none-any.whl (9.2 kB)\n",
      "Requirement already satisfied: tqdm<5.0,>=4.11.2 in c:\\users\\madhura\\anaconda3\\lib\\site-packages (from moviepy) (4.62.3)\n",
      "Requirement already satisfied: requests<3.0,>=2.8.1 in c:\\users\\madhura\\anaconda3\\lib\\site-packages (from moviepy) (2.26.0)\n",
      "Collecting proglog<=1.0.0\n",
      "  Downloading proglog-0.1.10-py3-none-any.whl (6.1 kB)\n",
      "Requirement already satisfied: numpy>=1.17.3 in c:\\users\\madhura\\anaconda3\\lib\\site-packages (from moviepy) (1.22.4)\n",
      "Requirement already satisfied: imageio<3.0,>=2.5 in c:\\users\\madhura\\anaconda3\\lib\\site-packages (from moviepy) (2.9.0)\n",
      "Collecting imageio_ffmpeg>=0.2.0\n",
      "  Downloading imageio_ffmpeg-0.4.8-py3-none-win_amd64.whl (22.6 MB)\n",
      "Requirement already satisfied: pillow in c:\\users\\madhura\\anaconda3\\lib\\site-packages (from imageio<3.0,>=2.5->moviepy) (8.4.0)\n",
      "Requirement already satisfied: urllib3<1.27,>=1.21.1 in c:\\users\\madhura\\anaconda3\\lib\\site-packages (from requests<3.0,>=2.8.1->moviepy) (1.26.7)\n",
      "Requirement already satisfied: certifi>=2017.4.17 in c:\\users\\madhura\\anaconda3\\lib\\site-packages (from requests<3.0,>=2.8.1->moviepy) (2021.10.8)\n",
      "Requirement already satisfied: idna<4,>=2.5 in c:\\users\\madhura\\anaconda3\\lib\\site-packages (from requests<3.0,>=2.8.1->moviepy) (3.2)\n",
      "Requirement already satisfied: charset-normalizer~=2.0.0 in c:\\users\\madhura\\anaconda3\\lib\\site-packages (from requests<3.0,>=2.8.1->moviepy) (2.0.4)\n",
      "Requirement already satisfied: colorama in c:\\users\\madhura\\anaconda3\\lib\\site-packages (from tqdm<5.0,>=4.11.2->moviepy) (0.4.4)\n",
      "Building wheels for collected packages: moviepy\n",
      "  Building wheel for moviepy (setup.py): started\n",
      "  Building wheel for moviepy (setup.py): finished with status 'done'\n",
      "  Created wheel for moviepy: filename=moviepy-1.0.3-py3-none-any.whl size=110744 sha256=e60bb736a6bbe490807a497b5675ff988e2a7ebdabe38c2f9b4764842a1c448c\n",
      "  Stored in directory: c:\\users\\madhura\\appdata\\local\\pip\\cache\\wheels\\29\\15\\e4\\4f790bec6acd51a00b67e8ee1394f0bc6e0135c315f8ff399a\n",
      "Successfully built moviepy\n",
      "Installing collected packages: proglog, imageio-ffmpeg, decorator, moviepy\n",
      "  Attempting uninstall: decorator\n",
      "    Found existing installation: decorator 5.1.0\n",
      "    Uninstalling decorator-5.1.0:\n",
      "      Successfully uninstalled decorator-5.1.0\n",
      "Successfully installed decorator-4.4.2 imageio-ffmpeg-0.4.8 moviepy-1.0.3 proglog-0.1.10\n"
     ]
    }
   ],
   "source": [
    "!pip install moviepy"
   ]
  },
  {
   "cell_type": "code",
   "execution_count": 5,
   "id": "0acfda52",
   "metadata": {},
   "outputs": [
    {
     "name": "stdout",
     "output_type": "stream",
     "text": [
      "Requirement already satisfied: moviepy in c:\\users\\madhura\\anaconda3\\lib\\site-packages (1.0.3)\n",
      "Requirement already satisfied: imageio<3.0,>=2.5 in c:\\users\\madhura\\anaconda3\\lib\\site-packages (from moviepy) (2.9.0)\n",
      "Requirement already satisfied: requests<3.0,>=2.8.1 in c:\\users\\madhura\\anaconda3\\lib\\site-packages (from moviepy) (2.26.0)\n",
      "Requirement already satisfied: tqdm<5.0,>=4.11.2 in c:\\users\\madhura\\anaconda3\\lib\\site-packages (from moviepy) (4.62.3)\n",
      "Requirement already satisfied: numpy>=1.17.3 in c:\\users\\madhura\\anaconda3\\lib\\site-packages (from moviepy) (1.22.4)\n",
      "Requirement already satisfied: imageio-ffmpeg>=0.2.0 in c:\\users\\madhura\\anaconda3\\lib\\site-packages (from moviepy) (0.4.8)\n",
      "Requirement already satisfied: proglog<=1.0.0 in c:\\users\\madhura\\anaconda3\\lib\\site-packages (from moviepy) (0.1.10)\n",
      "Requirement already satisfied: decorator<5.0,>=4.0.2 in c:\\users\\madhura\\anaconda3\\lib\\site-packages (from moviepy) (4.4.2)\n",
      "Requirement already satisfied: pillow in c:\\users\\madhura\\anaconda3\\lib\\site-packages (from imageio<3.0,>=2.5->moviepy) (8.4.0)\n",
      "Requirement already satisfied: charset-normalizer~=2.0.0 in c:\\users\\madhura\\anaconda3\\lib\\site-packages (from requests<3.0,>=2.8.1->moviepy) (2.0.4)\n",
      "Requirement already satisfied: certifi>=2017.4.17 in c:\\users\\madhura\\anaconda3\\lib\\site-packages (from requests<3.0,>=2.8.1->moviepy) (2021.10.8)\n",
      "Requirement already satisfied: urllib3<1.27,>=1.21.1 in c:\\users\\madhura\\anaconda3\\lib\\site-packages (from requests<3.0,>=2.8.1->moviepy) (1.26.7)\n",
      "Requirement already satisfied: idna<4,>=2.5 in c:\\users\\madhura\\anaconda3\\lib\\site-packages (from requests<3.0,>=2.8.1->moviepy) (3.2)\n",
      "Requirement already satisfied: colorama in c:\\users\\madhura\\anaconda3\\lib\\site-packages (from tqdm<5.0,>=4.11.2->moviepy) (0.4.4)\n"
     ]
    }
   ],
   "source": [
    "!pip install --upgrade moviepy"
   ]
  },
  {
   "cell_type": "markdown",
   "id": "615b64d5",
   "metadata": {},
   "source": [
    "## To black-out a part of background"
   ]
  },
  {
   "cell_type": "code",
   "execution_count": 1,
   "id": "d13ad581",
   "metadata": {},
   "outputs": [
    {
     "ename": "KeyboardInterrupt",
     "evalue": "",
     "output_type": "error",
     "traceback": [
      "\u001b[1;31m---------------------------------------------------------------------------\u001b[0m",
      "\u001b[1;31mKeyboardInterrupt\u001b[0m                         Traceback (most recent call last)",
      "\u001b[1;32m~\\AppData\\Local\\Temp/ipykernel_14520/1176153222.py\u001b[0m in \u001b[0;36m<module>\u001b[1;34m\u001b[0m\n\u001b[0;32m     40\u001b[0m \u001b[1;33m\u001b[0m\u001b[0m\n\u001b[0;32m     41\u001b[0m     \u001b[1;31m# write the output frame to the output video file\u001b[0m\u001b[1;33m\u001b[0m\u001b[1;33m\u001b[0m\u001b[0m\n\u001b[1;32m---> 42\u001b[1;33m     \u001b[0moutput_video\u001b[0m\u001b[1;33m.\u001b[0m\u001b[0mwrite\u001b[0m\u001b[1;33m(\u001b[0m\u001b[0moutput_frame\u001b[0m\u001b[1;33m)\u001b[0m\u001b[1;33m\u001b[0m\u001b[1;33m\u001b[0m\u001b[0m\n\u001b[0m\u001b[0;32m     43\u001b[0m \u001b[1;33m\u001b[0m\u001b[0m\n\u001b[0;32m     44\u001b[0m \u001b[1;31m# release the video file objects\u001b[0m\u001b[1;33m\u001b[0m\u001b[1;33m\u001b[0m\u001b[0m\n",
      "\u001b[1;31mKeyboardInterrupt\u001b[0m: "
     ]
    }
   ],
   "source": [
    "import cv2\n",
    "import numpy as np\n",
    "\n",
    "\n",
    "# Load the video file\n",
    "input_video = cv2.VideoCapture(\"D:/sign2text/data/C0003.MP4\")\n",
    "\n",
    "cap=input_video\n",
    "# define the coordinates of the rectangular region to remove\n",
    "\n",
    "# print(cap.get(3))\n",
    "height = int(cap.get(cv2.CAP_PROP_FRAME_HEIGHT))\n",
    "\n",
    "x1, y1 = 0,0\n",
    "x2, y2 = 300,height\n",
    "\n",
    "# get the video properties\n",
    "fps = int(input_video.get(cv2.CAP_PROP_FPS))\n",
    "width = int(input_video.get(cv2.CAP_PROP_FRAME_WIDTH))\n",
    "height = int(input_video.get(cv2.CAP_PROP_FRAME_HEIGHT))\n",
    "\n",
    "# create the output video file\n",
    "fourcc = cv2.VideoWriter_fourcc(*'mp4v')\n",
    "output_video = cv2.VideoWriter('D:/sign2text/data/proper2.MP4', fourcc, fps, (width, height))\n",
    "\n",
    "# loop over the frames of the input video\n",
    "while True:\n",
    "    # read the next frame from the video file\n",
    "    ret, frame = input_video.read()\n",
    "    \n",
    "    # if the frame could not be read, break out of the loop\n",
    "    if not ret:\n",
    "        break\n",
    "    \n",
    "    # create a copy of the input frame\n",
    "    output_frame = frame.copy()\n",
    "    \n",
    "    # set the region of interest to black\n",
    "    output_frame[y1:y2, x1:x2] = 0\n",
    "    \n",
    "    # write the output frame to the output video file\n",
    "    output_video.write(output_frame)\n",
    "\n",
    "# release the video file objects\n",
    "input_video.release()\n",
    "output_video.release()\n"
   ]
  },
  {
   "cell_type": "markdown",
   "id": "99821d31",
   "metadata": {},
   "source": [
    "## to remove the background completely"
   ]
  },
  {
   "cell_type": "code",
   "execution_count": 46,
   "id": "14a16f45",
   "metadata": {},
   "outputs": [],
   "source": [
    "import cv2\n",
    "\n",
    "# Load the input video\n",
    "input_video = cv2.VideoCapture('D:/sign2text/data/C0009.MP4')\n",
    "\n",
    "# Get the video properties\n",
    "frame_count = int(input_video.get(cv2.CAP_PROP_FRAME_COUNT))\n",
    "fps = int(input_video.get(cv2.CAP_PROP_FPS))\n",
    "width = int(input_video.get(cv2.CAP_PROP_FRAME_WIDTH))\n",
    "height = int(input_video.get(cv2.CAP_PROP_FRAME_HEIGHT))\n",
    "\n",
    "# Define the ROI (region of interest)\n",
    "x, y= 300,0\n",
    "w, h = 1920-x, 1080-y\n",
    "\n",
    "# Define the output video codec and create the output video writer\n",
    "fourcc = cv2.VideoWriter_fourcc(*'mp4v')\n",
    "output_video = cv2.VideoWriter('D:/sign2text/data/proper9.MP4', fourcc, fps, (w, h))\n",
    "\n",
    "# Loop through the frames of the input video, extract the ROI, and write to the output video\n",
    "for i in range(frame_count):\n",
    "    ret, frame = input_video.read()\n",
    "    if ret:\n",
    "        roi = frame[y:y+h, x:x+w]\n",
    "        output_video.write(roi)\n",
    "    else:\n",
    "        break\n",
    "\n",
    "# Release the input and output video objects\n",
    "input_video.release()\n",
    "output_video.release()\n"
   ]
  },
  {
   "cell_type": "markdown",
   "id": "ac1b4554",
   "metadata": {},
   "source": [
    "## To mute, rotate and trim the video"
   ]
  },
  {
   "cell_type": "code",
   "execution_count": 44,
   "id": "7ef79bed",
   "metadata": {
    "scrolled": true
   },
   "outputs": [
    {
     "name": "stderr",
     "output_type": "stream",
     "text": [
      "\n",
      "\n",
      "\u001b[A\u001b[A                                                                                                                 \n",
      "\n",
      "t:  96%|██████████████████████████████████████████████████████████████▌  | 313/325 [1:09:35<00:00, 17.02it/s, now=None]\u001b[A\u001b[A\n",
      "\n",
      "\u001b[A\u001b[A                                                                                                                 \n",
      "\n",
      "t:  96%|██████████████████████████████████████████████████████████████▌  | 313/325 [1:09:35<00:00, 17.02it/s, now=None]\u001b[A\u001b[A"
     ]
    },
    {
     "name": "stdout",
     "output_type": "stream",
     "text": [
      "Moviepy - Building video D:/sign2text/data/seasons6\\1.mp4.\n",
      "Moviepy - Writing video D:/sign2text/data/seasons6\\1.mp4\n",
      "\n"
     ]
    },
    {
     "name": "stderr",
     "output_type": "stream",
     "text": [
      "                                                                                                                       \n",
      "\n",
      "\u001b[A\u001b[A                                                                                                                 \n",
      "\n",
      "t:  96%|██████████████████████████████████████████████████████████████▌  | 313/325 [1:09:52<00:00, 17.02it/s, now=None]\u001b[A\u001b[A\n",
      "\n",
      "\u001b[A\u001b[A                                                                                                                 \n",
      "\n",
      "t:  96%|██████████████████████████████████████████████████████████████▌  | 313/325 [1:09:52<00:00, 17.02it/s, now=None]\u001b[A\u001b[A"
     ]
    },
    {
     "name": "stdout",
     "output_type": "stream",
     "text": [
      "Moviepy - Done !\n",
      "Moviepy - video ready D:/sign2text/data/seasons6\\1.mp4\n"
     ]
    },
    {
     "name": "stderr",
     "output_type": "stream",
     "text": [
      "\n",
      "\n",
      "\u001b[A\u001b[A                                                                                                                 \n",
      "\n",
      "t:  96%|██████████████████████████████████████████████████████████████▌  | 313/325 [1:09:52<00:00, 17.02it/s, now=None]\u001b[A\u001b[A\n",
      "\n",
      "\u001b[A\u001b[A                                                                                                                 \n",
      "\n",
      "t:  96%|██████████████████████████████████████████████████████████████▌  | 313/325 [1:09:53<00:00, 17.02it/s, now=None]\u001b[A\u001b[A"
     ]
    },
    {
     "name": "stdout",
     "output_type": "stream",
     "text": [
      "Moviepy - Building video D:/sign2text/data/seasons6\\2.mp4.\n",
      "Moviepy - Writing video D:/sign2text/data/seasons6\\2.mp4\n",
      "\n"
     ]
    },
    {
     "name": "stderr",
     "output_type": "stream",
     "text": [
      "                                                                                                                       \n",
      "\n",
      "\u001b[A\u001b[A                                                                                                                 \n",
      "\n",
      "t:  96%|██████████████████████████████████████████████████████████████▌  | 313/325 [1:10:08<00:00, 17.02it/s, now=None]\u001b[A\u001b[A\n",
      "\n",
      "\u001b[A\u001b[A                                                                                                                 \n",
      "\n",
      "t:  96%|██████████████████████████████████████████████████████████████▌  | 313/325 [1:10:08<00:00, 17.02it/s, now=None]\u001b[A\u001b[A"
     ]
    },
    {
     "name": "stdout",
     "output_type": "stream",
     "text": [
      "Moviepy - Done !\n",
      "Moviepy - video ready D:/sign2text/data/seasons6\\2.mp4\n"
     ]
    },
    {
     "name": "stderr",
     "output_type": "stream",
     "text": [
      "\n",
      "\n",
      "\u001b[A\u001b[A                                                                                                                 \n",
      "\n",
      "t:  96%|██████████████████████████████████████████████████████████████▌  | 313/325 [1:10:08<00:00, 17.02it/s, now=None]\u001b[A\u001b[A\n",
      "\n",
      "\u001b[A\u001b[A                                                                                                                 \n",
      "\n",
      "t:  96%|██████████████████████████████████████████████████████████████▌  | 313/325 [1:10:08<00:00, 17.02it/s, now=None]\u001b[A\u001b[A"
     ]
    },
    {
     "name": "stdout",
     "output_type": "stream",
     "text": [
      "Moviepy - Building video D:/sign2text/data/seasons6\\3.mp4.\n",
      "Moviepy - Writing video D:/sign2text/data/seasons6\\3.mp4\n",
      "\n"
     ]
    },
    {
     "name": "stderr",
     "output_type": "stream",
     "text": [
      "                                                                                                                       \n",
      "\n",
      "\u001b[A\u001b[A                                                                                                                 \n",
      "\n",
      "t:  96%|██████████████████████████████████████████████████████████████▌  | 313/325 [1:10:27<00:00, 17.02it/s, now=None]\u001b[A\u001b[A\n",
      "\n",
      "\u001b[A\u001b[A                                                                                                                 \n",
      "\n",
      "t:  96%|██████████████████████████████████████████████████████████████▌  | 313/325 [1:10:27<00:00, 17.02it/s, now=None]\u001b[A\u001b[A"
     ]
    },
    {
     "name": "stdout",
     "output_type": "stream",
     "text": [
      "Moviepy - Done !\n",
      "Moviepy - video ready D:/sign2text/data/seasons6\\3.mp4\n"
     ]
    },
    {
     "name": "stderr",
     "output_type": "stream",
     "text": [
      "\n",
      "\n",
      "\u001b[A\u001b[A                                                                                                                 \n",
      "\n",
      "t:  96%|██████████████████████████████████████████████████████████████▌  | 313/325 [1:10:28<00:00, 17.02it/s, now=None]\u001b[A\u001b[A\n",
      "\n",
      "\u001b[A\u001b[A                                                                                                                 \n",
      "\n",
      "t:  96%|██████████████████████████████████████████████████████████████▌  | 313/325 [1:10:28<00:00, 17.02it/s, now=None]\u001b[A\u001b[A"
     ]
    },
    {
     "name": "stdout",
     "output_type": "stream",
     "text": [
      "Moviepy - Building video D:/sign2text/data/seasons6\\4.mp4.\n",
      "Moviepy - Writing video D:/sign2text/data/seasons6\\4.mp4\n",
      "\n"
     ]
    },
    {
     "name": "stderr",
     "output_type": "stream",
     "text": [
      "                                                                                                                       \n",
      "\n",
      "\u001b[A\u001b[A                                                                                                                 \n",
      "\n",
      "t:  96%|██████████████████████████████████████████████████████████████▌  | 313/325 [1:10:52<00:00, 17.02it/s, now=None]\u001b[A\u001b[A\n",
      "\n",
      "\u001b[A\u001b[A                                                                                                                 \n",
      "\n",
      "t:  96%|██████████████████████████████████████████████████████████████▌  | 313/325 [1:10:52<00:00, 17.02it/s, now=None]\u001b[A\u001b[A"
     ]
    },
    {
     "name": "stdout",
     "output_type": "stream",
     "text": [
      "Moviepy - Done !\n",
      "Moviepy - video ready D:/sign2text/data/seasons6\\4.mp4\n"
     ]
    },
    {
     "name": "stderr",
     "output_type": "stream",
     "text": [
      "\n",
      "\n",
      "\u001b[A\u001b[A                                                                                                                 \n",
      "\n",
      "t:  96%|██████████████████████████████████████████████████████████████▌  | 313/325 [1:10:52<00:00, 17.02it/s, now=None]\u001b[A\u001b[A\n",
      "\n",
      "\u001b[A\u001b[A                                                                                                                 \n",
      "\n",
      "t:  96%|██████████████████████████████████████████████████████████████▌  | 313/325 [1:10:52<00:00, 17.02it/s, now=None]\u001b[A\u001b[A"
     ]
    },
    {
     "name": "stdout",
     "output_type": "stream",
     "text": [
      "Moviepy - Building video D:/sign2text/data/seasons6\\5.mp4.\n",
      "Moviepy - Writing video D:/sign2text/data/seasons6\\5.mp4\n",
      "\n"
     ]
    },
    {
     "name": "stderr",
     "output_type": "stream",
     "text": [
      "                                                                                                                       \n",
      "\n",
      "\u001b[A\u001b[A                                                                                                                 \n",
      "\n",
      "t:  96%|██████████████████████████████████████████████████████████████▌  | 313/325 [1:11:09<00:00, 17.02it/s, now=None]\u001b[A\u001b[A\n",
      "\n",
      "\u001b[A\u001b[A                                                                                                                 \n",
      "\n",
      "t:  96%|██████████████████████████████████████████████████████████████▌  | 313/325 [1:11:09<00:00, 17.02it/s, now=None]\u001b[A\u001b[A"
     ]
    },
    {
     "name": "stdout",
     "output_type": "stream",
     "text": [
      "Moviepy - Done !\n",
      "Moviepy - video ready D:/sign2text/data/seasons6\\5.mp4\n"
     ]
    },
    {
     "name": "stderr",
     "output_type": "stream",
     "text": [
      "\n",
      "\n",
      "\u001b[A\u001b[A                                                                                                                 \n",
      "\n",
      "t:  96%|██████████████████████████████████████████████████████████████▌  | 313/325 [1:11:09<00:00, 17.02it/s, now=None]\u001b[A\u001b[A\n",
      "\n",
      "\u001b[A\u001b[A                                                                                                                 \n",
      "\n",
      "t:  96%|██████████████████████████████████████████████████████████████▌  | 313/325 [1:11:09<00:00, 17.02it/s, now=None]\u001b[A\u001b[A"
     ]
    },
    {
     "name": "stdout",
     "output_type": "stream",
     "text": [
      "Moviepy - Building video D:/sign2text/data/seasons6\\6.mp4.\n",
      "Moviepy - Writing video D:/sign2text/data/seasons6\\6.mp4\n",
      "\n"
     ]
    },
    {
     "name": "stderr",
     "output_type": "stream",
     "text": [
      "                                                                                                                       \n",
      "\n",
      "\u001b[A\u001b[A                                                                                                                 \n",
      "\n",
      "t:  96%|██████████████████████████████████████████████████████████████▌  | 313/325 [1:11:28<00:00, 17.02it/s, now=None]\u001b[A\u001b[A\n",
      "\n",
      "\u001b[A\u001b[A                                                                                                                 \n",
      "\n",
      "t:  96%|██████████████████████████████████████████████████████████████▌  | 313/325 [1:11:28<00:00, 17.02it/s, now=None]\u001b[A\u001b[A"
     ]
    },
    {
     "name": "stdout",
     "output_type": "stream",
     "text": [
      "Moviepy - Done !\n",
      "Moviepy - video ready D:/sign2text/data/seasons6\\6.mp4\n"
     ]
    },
    {
     "name": "stderr",
     "output_type": "stream",
     "text": [
      "\n",
      "\n",
      "\u001b[A\u001b[A                                                                                                                 \n",
      "\n",
      "t:  96%|██████████████████████████████████████████████████████████████▌  | 313/325 [1:11:28<00:00, 17.02it/s, now=None]\u001b[A\u001b[A\n",
      "\n",
      "\u001b[A\u001b[A                                                                                                                 \n",
      "\n",
      "t:  96%|██████████████████████████████████████████████████████████████▌  | 313/325 [1:11:28<00:00, 17.02it/s, now=None]\u001b[A\u001b[A"
     ]
    },
    {
     "name": "stdout",
     "output_type": "stream",
     "text": [
      "Moviepy - Building video D:/sign2text/data/seasons6\\7.mp4.\n",
      "Moviepy - Writing video D:/sign2text/data/seasons6\\7.mp4\n",
      "\n"
     ]
    },
    {
     "name": "stderr",
     "output_type": "stream",
     "text": [
      "                                                                                                                       \n",
      "\n",
      "\u001b[A\u001b[A                                                                                                                 \n",
      "\n",
      "t:  96%|██████████████████████████████████████████████████████████████▌  | 313/325 [1:11:45<00:00, 17.02it/s, now=None]\u001b[A\u001b[A\n",
      "\n",
      "\u001b[A\u001b[A                                                                                                                 \n",
      "\n",
      "t:  96%|██████████████████████████████████████████████████████████████▌  | 313/325 [1:11:45<00:00, 17.02it/s, now=None]\u001b[A\u001b[A"
     ]
    },
    {
     "name": "stdout",
     "output_type": "stream",
     "text": [
      "Moviepy - Done !\n",
      "Moviepy - video ready D:/sign2text/data/seasons6\\7.mp4\n"
     ]
    },
    {
     "name": "stderr",
     "output_type": "stream",
     "text": [
      "\n",
      "\n",
      "\u001b[A\u001b[A                                                                                                                 \n",
      "\n",
      "t:  96%|██████████████████████████████████████████████████████████████▌  | 313/325 [1:11:46<00:00, 17.02it/s, now=None]\u001b[A\u001b[A\n",
      "\n",
      "\u001b[A\u001b[A                                                                                                                 \n",
      "\n",
      "t:  96%|██████████████████████████████████████████████████████████████▌  | 313/325 [1:11:46<00:00, 17.02it/s, now=None]\u001b[A\u001b[A"
     ]
    },
    {
     "name": "stdout",
     "output_type": "stream",
     "text": [
      "Moviepy - Building video D:/sign2text/data/seasons6\\8.mp4.\n",
      "Moviepy - Writing video D:/sign2text/data/seasons6\\8.mp4\n",
      "\n"
     ]
    },
    {
     "name": "stderr",
     "output_type": "stream",
     "text": [
      "                                                                                                                       \n",
      "\n",
      "\u001b[A\u001b[A                                                                                                                 \n",
      "\n",
      "t:  96%|██████████████████████████████████████████████████████████████▌  | 313/325 [1:11:58<00:00, 17.02it/s, now=None]\u001b[A\u001b[A\n",
      "\n",
      "\u001b[A\u001b[A                                                                                                                 \n",
      "\n",
      "t:  96%|██████████████████████████████████████████████████████████████▌  | 313/325 [1:11:58<00:00, 17.02it/s, now=None]\u001b[A\u001b[A"
     ]
    },
    {
     "name": "stdout",
     "output_type": "stream",
     "text": [
      "Moviepy - Done !\n",
      "Moviepy - video ready D:/sign2text/data/seasons6\\8.mp4\n"
     ]
    },
    {
     "name": "stderr",
     "output_type": "stream",
     "text": [
      "\n",
      "\n",
      "\u001b[A\u001b[A                                                                                                                 \n",
      "\n",
      "t:  96%|██████████████████████████████████████████████████████████████▌  | 313/325 [1:11:58<00:00, 17.02it/s, now=None]\u001b[A\u001b[A\n",
      "\n",
      "\u001b[A\u001b[A                                                                                                                 \n",
      "\n",
      "t:  96%|██████████████████████████████████████████████████████████████▌  | 313/325 [1:11:58<00:00, 17.02it/s, now=None]\u001b[A\u001b[A"
     ]
    },
    {
     "name": "stdout",
     "output_type": "stream",
     "text": [
      "Moviepy - Building video D:/sign2text/data/seasons6\\9.mp4.\n",
      "Moviepy - Writing video D:/sign2text/data/seasons6\\9.mp4\n",
      "\n"
     ]
    },
    {
     "name": "stderr",
     "output_type": "stream",
     "text": [
      "                                                                                                                       \n",
      "\n",
      "\u001b[A\u001b[A                                                                                                                 \n",
      "\n",
      "t:  96%|██████████████████████████████████████████████████████████████▌  | 313/325 [1:12:10<00:00, 17.02it/s, now=None]\u001b[A\u001b[A\n",
      "\n",
      "\u001b[A\u001b[A                                                                                                                 \n",
      "\n",
      "t:  96%|██████████████████████████████████████████████████████████████▌  | 313/325 [1:12:10<00:00, 17.02it/s, now=None]\u001b[A\u001b[A"
     ]
    },
    {
     "name": "stdout",
     "output_type": "stream",
     "text": [
      "Moviepy - Done !\n",
      "Moviepy - video ready D:/sign2text/data/seasons6\\9.mp4\n"
     ]
    },
    {
     "name": "stderr",
     "output_type": "stream",
     "text": [
      "\n",
      "\n",
      "\u001b[A\u001b[A                                                                                                                 \n",
      "\n",
      "t:  96%|██████████████████████████████████████████████████████████████▌  | 313/325 [1:12:11<00:00, 17.02it/s, now=None]\u001b[A\u001b[A\n",
      "\n",
      "\u001b[A\u001b[A                                                                                                                 \n",
      "\n",
      "t:  96%|██████████████████████████████████████████████████████████████▌  | 313/325 [1:12:11<00:00, 17.02it/s, now=None]\u001b[A\u001b[A"
     ]
    },
    {
     "name": "stdout",
     "output_type": "stream",
     "text": [
      "Moviepy - Building video D:/sign2text/data/seasons6\\10.mp4.\n",
      "Moviepy - Writing video D:/sign2text/data/seasons6\\10.mp4\n",
      "\n"
     ]
    },
    {
     "name": "stderr",
     "output_type": "stream",
     "text": [
      "                                                                                                                       \n",
      "\n",
      "\u001b[A\u001b[A                                                                                                                 \n",
      "\n",
      "t:  96%|██████████████████████████████████████████████████████████████▌  | 313/325 [1:12:24<00:00, 17.02it/s, now=None]\u001b[A\u001b[A\n",
      "\n",
      "\u001b[A\u001b[A                                                                                                                 \n",
      "\n",
      "t:  96%|██████████████████████████████████████████████████████████████▌  | 313/325 [1:12:24<00:00, 17.02it/s, now=None]\u001b[A\u001b[A"
     ]
    },
    {
     "name": "stdout",
     "output_type": "stream",
     "text": [
      "Moviepy - Done !\n",
      "Moviepy - video ready D:/sign2text/data/seasons6\\10.mp4\n"
     ]
    },
    {
     "name": "stderr",
     "output_type": "stream",
     "text": [
      "\n",
      "\n",
      "\u001b[A\u001b[A                                                                                                                 \n",
      "\n",
      "t:  96%|██████████████████████████████████████████████████████████████▌  | 313/325 [1:12:25<00:00, 17.02it/s, now=None]\u001b[A\u001b[A\n",
      "\n",
      "\u001b[A\u001b[A                                                                                                                 \n",
      "\n",
      "t:  96%|██████████████████████████████████████████████████████████████▌  | 313/325 [1:12:25<00:00, 17.02it/s, now=None]\u001b[A\u001b[A"
     ]
    },
    {
     "name": "stdout",
     "output_type": "stream",
     "text": [
      "Moviepy - Building video D:/sign2text/data/seasons6\\11.mp4.\n",
      "Moviepy - Writing video D:/sign2text/data/seasons6\\11.mp4\n",
      "\n"
     ]
    },
    {
     "name": "stderr",
     "output_type": "stream",
     "text": [
      "                                                                                                                       \n",
      "\n",
      "\u001b[A\u001b[A                                                                                                                 \n",
      "\n",
      "t:  96%|██████████████████████████████████████████████████████████████▌  | 313/325 [1:12:35<00:00, 17.02it/s, now=None]\u001b[A\u001b[A\n",
      "\n",
      "\u001b[A\u001b[A                                                                                                                 \n",
      "\n",
      "t:  96%|██████████████████████████████████████████████████████████████▌  | 313/325 [1:12:35<00:00, 17.02it/s, now=None]\u001b[A\u001b[A"
     ]
    },
    {
     "name": "stdout",
     "output_type": "stream",
     "text": [
      "Moviepy - Done !\n",
      "Moviepy - video ready D:/sign2text/data/seasons6\\11.mp4\n"
     ]
    },
    {
     "name": "stderr",
     "output_type": "stream",
     "text": [
      "\n",
      "\n",
      "\u001b[A\u001b[A                                                                                                                 \n",
      "\n",
      "t:  96%|██████████████████████████████████████████████████████████████▌  | 313/325 [1:12:35<00:00, 17.02it/s, now=None]\u001b[A\u001b[A\n",
      "\n",
      "\u001b[A\u001b[A                                                                                                                 \n",
      "\n",
      "t:  96%|██████████████████████████████████████████████████████████████▌  | 313/325 [1:12:35<00:00, 17.02it/s, now=None]\u001b[A\u001b[A"
     ]
    },
    {
     "name": "stdout",
     "output_type": "stream",
     "text": [
      "Moviepy - Building video D:/sign2text/data/seasons6\\12.mp4.\n",
      "Moviepy - Writing video D:/sign2text/data/seasons6\\12.mp4\n",
      "\n"
     ]
    },
    {
     "name": "stderr",
     "output_type": "stream",
     "text": [
      "                                                                                                                       \n",
      "\n",
      "\u001b[A\u001b[A                                                                                                                 \n",
      "\n",
      "t:  96%|██████████████████████████████████████████████████████████████▌  | 313/325 [1:12:54<00:00, 17.02it/s, now=None]\u001b[A\u001b[A\n",
      "\n",
      "\u001b[A\u001b[A                                                                                                                 \n",
      "\n",
      "t:  96%|██████████████████████████████████████████████████████████████▌  | 313/325 [1:12:54<00:00, 17.02it/s, now=None]\u001b[A\u001b[A"
     ]
    },
    {
     "name": "stdout",
     "output_type": "stream",
     "text": [
      "Moviepy - Done !\n",
      "Moviepy - video ready D:/sign2text/data/seasons6\\12.mp4\n"
     ]
    },
    {
     "name": "stderr",
     "output_type": "stream",
     "text": [
      "\n",
      "\n",
      "\u001b[A\u001b[A                                                                                                                 \n",
      "\n",
      "t:  96%|██████████████████████████████████████████████████████████████▌  | 313/325 [1:12:55<00:00, 17.02it/s, now=None]\u001b[A\u001b[A\n",
      "\n",
      "\u001b[A\u001b[A                                                                                                                 \n",
      "\n",
      "t:  96%|██████████████████████████████████████████████████████████████▌  | 313/325 [1:12:55<00:00, 17.02it/s, now=None]\u001b[A\u001b[A"
     ]
    },
    {
     "name": "stdout",
     "output_type": "stream",
     "text": [
      "Moviepy - Building video D:/sign2text/data/seasons6\\13.mp4.\n",
      "Moviepy - Writing video D:/sign2text/data/seasons6\\13.mp4\n",
      "\n"
     ]
    },
    {
     "name": "stderr",
     "output_type": "stream",
     "text": [
      "                                                                                                                       \n",
      "\n",
      "\u001b[A\u001b[A                                                                                                                 \n",
      "\n",
      "t:  96%|██████████████████████████████████████████████████████████████▌  | 313/325 [1:13:10<00:00, 17.02it/s, now=None]\u001b[A\u001b[A\n",
      "\n",
      "\u001b[A\u001b[A                                                                                                                 \n",
      "\n",
      "t:  96%|██████████████████████████████████████████████████████████████▌  | 313/325 [1:13:10<00:00, 17.02it/s, now=None]\u001b[A\u001b[A"
     ]
    },
    {
     "name": "stdout",
     "output_type": "stream",
     "text": [
      "Moviepy - Done !\n",
      "Moviepy - video ready D:/sign2text/data/seasons6\\13.mp4\n"
     ]
    },
    {
     "name": "stderr",
     "output_type": "stream",
     "text": [
      "\n",
      "\n",
      "\u001b[A\u001b[A                                                                                                                 \n",
      "\n",
      "t:  96%|██████████████████████████████████████████████████████████████▌  | 313/325 [1:13:11<00:00, 17.02it/s, now=None]\u001b[A\u001b[A\n",
      "\n",
      "\u001b[A\u001b[A                                                                                                                 \n",
      "\n",
      "t:  96%|██████████████████████████████████████████████████████████████▌  | 313/325 [1:13:11<00:00, 17.02it/s, now=None]\u001b[A\u001b[A"
     ]
    },
    {
     "name": "stdout",
     "output_type": "stream",
     "text": [
      "Moviepy - Building video D:/sign2text/data/seasons6\\14.mp4.\n",
      "Moviepy - Writing video D:/sign2text/data/seasons6\\14.mp4\n",
      "\n"
     ]
    },
    {
     "name": "stderr",
     "output_type": "stream",
     "text": [
      "                                                                                                                       \n",
      "\n",
      "\u001b[A\u001b[A                                                                                                                 \n",
      "\n",
      "t:  96%|██████████████████████████████████████████████████████████████▌  | 313/325 [1:13:20<00:00, 17.02it/s, now=None]\u001b[A\u001b[A\n",
      "\n",
      "\u001b[A\u001b[A                                                                                                                 \n",
      "\n",
      "t:  96%|██████████████████████████████████████████████████████████████▌  | 313/325 [1:13:20<00:00, 17.02it/s, now=None]\u001b[A\u001b[A"
     ]
    },
    {
     "name": "stdout",
     "output_type": "stream",
     "text": [
      "Moviepy - Done !\n",
      "Moviepy - video ready D:/sign2text/data/seasons6\\14.mp4\n"
     ]
    },
    {
     "name": "stderr",
     "output_type": "stream",
     "text": [
      "\n",
      "\n",
      "\u001b[A\u001b[A                                                                                                                 \n",
      "\n",
      "t:  96%|██████████████████████████████████████████████████████████████▌  | 313/325 [1:13:21<00:00, 17.02it/s, now=None]\u001b[A\u001b[A\n",
      "\n",
      "\u001b[A\u001b[A                                                                                                                 \n",
      "\n",
      "t:  96%|██████████████████████████████████████████████████████████████▌  | 313/325 [1:13:21<00:00, 17.02it/s, now=None]\u001b[A\u001b[A"
     ]
    },
    {
     "name": "stdout",
     "output_type": "stream",
     "text": [
      "Moviepy - Building video D:/sign2text/data/seasons6\\15.mp4.\n",
      "Moviepy - Writing video D:/sign2text/data/seasons6\\15.mp4\n",
      "\n"
     ]
    },
    {
     "name": "stderr",
     "output_type": "stream",
     "text": [
      "                                                                                                                       \n",
      "\n",
      "\u001b[A\u001b[A                                                                                                                 \n",
      "\n",
      "t:  96%|██████████████████████████████████████████████████████████████▌  | 313/325 [1:13:37<00:00, 17.02it/s, now=None]\u001b[A\u001b[A\n",
      "\n",
      "\u001b[A\u001b[A                                                                                                                 \n",
      "\n",
      "t:  96%|██████████████████████████████████████████████████████████████▌  | 313/325 [1:13:37<00:00, 17.02it/s, now=None]\u001b[A\u001b[A"
     ]
    },
    {
     "name": "stdout",
     "output_type": "stream",
     "text": [
      "Moviepy - Done !\n",
      "Moviepy - video ready D:/sign2text/data/seasons6\\15.mp4\n"
     ]
    },
    {
     "name": "stderr",
     "output_type": "stream",
     "text": [
      "\n",
      "\n",
      "\u001b[A\u001b[A                                                                                                                 \n",
      "\n",
      "t:  96%|██████████████████████████████████████████████████████████████▌  | 313/325 [1:13:38<00:00, 17.02it/s, now=None]\u001b[A\u001b[A\n",
      "\n",
      "\u001b[A\u001b[A                                                                                                                 \n",
      "\n",
      "t:  96%|██████████████████████████████████████████████████████████████▌  | 313/325 [1:13:38<00:00, 17.02it/s, now=None]\u001b[A\u001b[A"
     ]
    },
    {
     "name": "stdout",
     "output_type": "stream",
     "text": [
      "Moviepy - Building video D:/sign2text/data/seasons6\\16.mp4.\n",
      "Moviepy - Writing video D:/sign2text/data/seasons6\\16.mp4\n",
      "\n"
     ]
    },
    {
     "name": "stderr",
     "output_type": "stream",
     "text": [
      "                                                                                                                       \n",
      "\n",
      "\u001b[A\u001b[A                                                                                                                 \n",
      "\n",
      "t:  96%|██████████████████████████████████████████████████████████████▌  | 313/325 [1:13:51<00:00, 17.02it/s, now=None]\u001b[A\u001b[A\n",
      "\n",
      "\u001b[A\u001b[A                                                                                                                 \n",
      "\n",
      "t:  96%|██████████████████████████████████████████████████████████████▌  | 313/325 [1:13:51<00:00, 17.02it/s, now=None]\u001b[A\u001b[A"
     ]
    },
    {
     "name": "stdout",
     "output_type": "stream",
     "text": [
      "Moviepy - Done !\n",
      "Moviepy - video ready D:/sign2text/data/seasons6\\16.mp4\n"
     ]
    },
    {
     "name": "stderr",
     "output_type": "stream",
     "text": [
      "\n",
      "\n",
      "\u001b[A\u001b[A                                                                                                                 \n",
      "\n",
      "t:  96%|██████████████████████████████████████████████████████████████▌  | 313/325 [1:13:52<00:00, 17.02it/s, now=None]\u001b[A\u001b[A\n",
      "\n",
      "\u001b[A\u001b[A                                                                                                                 \n",
      "\n",
      "t:  96%|██████████████████████████████████████████████████████████████▌  | 313/325 [1:13:52<00:00, 17.02it/s, now=None]\u001b[A\u001b[A"
     ]
    },
    {
     "name": "stdout",
     "output_type": "stream",
     "text": [
      "Moviepy - Building video D:/sign2text/data/seasons6\\17.mp4.\n",
      "Moviepy - Writing video D:/sign2text/data/seasons6\\17.mp4\n",
      "\n"
     ]
    },
    {
     "name": "stderr",
     "output_type": "stream",
     "text": [
      "                                                                                                                       \n",
      "\n",
      "\u001b[A\u001b[A                                                                                                                 \n",
      "\n",
      "t:  96%|██████████████████████████████████████████████████████████████▌  | 313/325 [1:14:01<00:00, 17.02it/s, now=None]\u001b[A\u001b[A\n",
      "\n",
      "\u001b[A\u001b[A                                                                                                                 \n",
      "\n",
      "t:  96%|██████████████████████████████████████████████████████████████▌  | 313/325 [1:14:01<00:00, 17.02it/s, now=None]\u001b[A\u001b[A"
     ]
    },
    {
     "name": "stdout",
     "output_type": "stream",
     "text": [
      "Moviepy - Done !\n",
      "Moviepy - video ready D:/sign2text/data/seasons6\\17.mp4\n"
     ]
    },
    {
     "name": "stderr",
     "output_type": "stream",
     "text": [
      "\n",
      "\n",
      "\u001b[A\u001b[A                                                                                                                 \n",
      "\n",
      "t:  96%|██████████████████████████████████████████████████████████████▌  | 313/325 [1:14:02<00:00, 17.02it/s, now=None]\u001b[A\u001b[A\n",
      "\n",
      "\u001b[A\u001b[A                                                                                                                 \n",
      "\n",
      "t:  96%|██████████████████████████████████████████████████████████████▌  | 313/325 [1:14:02<00:00, 17.02it/s, now=None]\u001b[A\u001b[A"
     ]
    },
    {
     "name": "stdout",
     "output_type": "stream",
     "text": [
      "Moviepy - Building video D:/sign2text/data/seasons6\\18.mp4.\n",
      "Moviepy - Writing video D:/sign2text/data/seasons6\\18.mp4\n",
      "\n"
     ]
    },
    {
     "name": "stderr",
     "output_type": "stream",
     "text": [
      "                                                                                                                       \n",
      "\n",
      "\u001b[A\u001b[A                                                                                                                 \n",
      "\n",
      "t:  96%|██████████████████████████████████████████████████████████████▌  | 313/325 [1:14:18<00:00, 17.02it/s, now=None]\u001b[A\u001b[A\n",
      "\n",
      "\u001b[A\u001b[A                                                                                                                 \n",
      "\n",
      "t:  96%|██████████████████████████████████████████████████████████████▌  | 313/325 [1:14:18<00:00, 17.02it/s, now=None]\u001b[A\u001b[A"
     ]
    },
    {
     "name": "stdout",
     "output_type": "stream",
     "text": [
      "Moviepy - Done !\n",
      "Moviepy - video ready D:/sign2text/data/seasons6\\18.mp4\n"
     ]
    },
    {
     "name": "stderr",
     "output_type": "stream",
     "text": [
      "\n",
      "\n",
      "\u001b[A\u001b[A                                                                                                                 \n",
      "\n",
      "t:  96%|██████████████████████████████████████████████████████████████▌  | 313/325 [1:14:18<00:00, 17.02it/s, now=None]\u001b[A\u001b[A\n",
      "\n",
      "\u001b[A\u001b[A                                                                                                                 \n",
      "\n",
      "t:  96%|██████████████████████████████████████████████████████████████▌  | 313/325 [1:14:18<00:00, 17.02it/s, now=None]\u001b[A\u001b[A"
     ]
    },
    {
     "name": "stdout",
     "output_type": "stream",
     "text": [
      "Moviepy - Building video D:/sign2text/data/seasons6\\19.mp4.\n",
      "Moviepy - Writing video D:/sign2text/data/seasons6\\19.mp4\n",
      "\n"
     ]
    },
    {
     "name": "stderr",
     "output_type": "stream",
     "text": [
      "                                                                                                                       \n",
      "\n",
      "\u001b[A\u001b[A                                                                                                                 \n",
      "\n",
      "t:  96%|██████████████████████████████████████████████████████████████▌  | 313/325 [1:14:35<00:00, 17.02it/s, now=None]\u001b[A\u001b[A\n",
      "\n",
      "\u001b[A\u001b[A                                                                                                                 \n",
      "\n",
      "t:  96%|██████████████████████████████████████████████████████████████▌  | 313/325 [1:14:35<00:00, 17.02it/s, now=None]\u001b[A\u001b[A"
     ]
    },
    {
     "name": "stdout",
     "output_type": "stream",
     "text": [
      "Moviepy - Done !\n",
      "Moviepy - video ready D:/sign2text/data/seasons6\\19.mp4\n"
     ]
    },
    {
     "name": "stderr",
     "output_type": "stream",
     "text": [
      "\n",
      "\n",
      "\u001b[A\u001b[A                                                                                                                 \n",
      "\n",
      "t:  96%|██████████████████████████████████████████████████████████████▌  | 313/325 [1:14:36<00:00, 17.02it/s, now=None]\u001b[A\u001b[A\n",
      "\n",
      "\u001b[A\u001b[A                                                                                                                 \n",
      "\n",
      "t:  96%|██████████████████████████████████████████████████████████████▌  | 313/325 [1:14:36<00:00, 17.02it/s, now=None]\u001b[A\u001b[A"
     ]
    },
    {
     "name": "stdout",
     "output_type": "stream",
     "text": [
      "Moviepy - Building video D:/sign2text/data/seasons6\\20.mp4.\n",
      "Moviepy - Writing video D:/sign2text/data/seasons6\\20.mp4\n",
      "\n"
     ]
    },
    {
     "name": "stderr",
     "output_type": "stream",
     "text": [
      "                                                                                                                       \n",
      "\n",
      "\u001b[A\u001b[A                                                                                                                 \n",
      "\n",
      "t:  96%|██████████████████████████████████████████████████████████████▌  | 313/325 [1:14:51<00:00, 17.02it/s, now=None]\u001b[A\u001b[A\n",
      "\n",
      "\u001b[A\u001b[A                                                                                                                 \n",
      "\n",
      "t:  96%|██████████████████████████████████████████████████████████████▌  | 313/325 [1:14:51<00:00, 17.02it/s, now=None]\u001b[A\u001b[A"
     ]
    },
    {
     "name": "stdout",
     "output_type": "stream",
     "text": [
      "Moviepy - Done !\n",
      "Moviepy - video ready D:/sign2text/data/seasons6\\20.mp4\n"
     ]
    },
    {
     "name": "stderr",
     "output_type": "stream",
     "text": [
      "\n",
      "\n",
      "\u001b[A\u001b[A                                                                                                                 \n",
      "\n",
      "t:  96%|██████████████████████████████████████████████████████████████▌  | 313/325 [1:14:52<00:00, 17.02it/s, now=None]\u001b[A\u001b[A\n",
      "\n",
      "\u001b[A\u001b[A                                                                                                                 \n",
      "\n",
      "t:  96%|██████████████████████████████████████████████████████████████▌  | 313/325 [1:14:52<00:00, 17.02it/s, now=None]\u001b[A\u001b[A"
     ]
    },
    {
     "name": "stdout",
     "output_type": "stream",
     "text": [
      "Moviepy - Building video D:/sign2text/data/seasons6\\21.mp4.\n",
      "Moviepy - Writing video D:/sign2text/data/seasons6\\21.mp4\n",
      "\n"
     ]
    },
    {
     "name": "stderr",
     "output_type": "stream",
     "text": [
      "                                                                                                                       \n",
      "\n",
      "\u001b[A\u001b[A                                                                                                                 \n",
      "\n",
      "t:  96%|██████████████████████████████████████████████████████████████▌  | 313/325 [1:15:06<00:00, 17.02it/s, now=None]\u001b[A\u001b[A\n",
      "\n",
      "\u001b[A\u001b[A                                                                                                                 \n",
      "\n",
      "t:  96%|██████████████████████████████████████████████████████████████▌  | 313/325 [1:15:06<00:00, 17.02it/s, now=None]\u001b[A\u001b[A"
     ]
    },
    {
     "name": "stdout",
     "output_type": "stream",
     "text": [
      "Moviepy - Done !\n",
      "Moviepy - video ready D:/sign2text/data/seasons6\\21.mp4\n"
     ]
    },
    {
     "name": "stderr",
     "output_type": "stream",
     "text": [
      "\n",
      "\n",
      "\u001b[A\u001b[A                                                                                                                 \n",
      "\n",
      "t:  96%|██████████████████████████████████████████████████████████████▌  | 313/325 [1:15:08<00:00, 17.02it/s, now=None]\u001b[A\u001b[A\n",
      "\n",
      "\u001b[A\u001b[A                                                                                                                 \n",
      "\n",
      "t:  96%|██████████████████████████████████████████████████████████████▌  | 313/325 [1:15:08<00:00, 17.02it/s, now=None]\u001b[A\u001b[A"
     ]
    },
    {
     "name": "stdout",
     "output_type": "stream",
     "text": [
      "Moviepy - Building video D:/sign2text/data/seasons6\\22.mp4.\n",
      "Moviepy - Writing video D:/sign2text/data/seasons6\\22.mp4\n",
      "\n"
     ]
    },
    {
     "name": "stderr",
     "output_type": "stream",
     "text": [
      "                                                                                                                       \n",
      "\n",
      "\u001b[A\u001b[A                                                                                                                 \n",
      "\n",
      "t:  96%|██████████████████████████████████████████████████████████████▌  | 313/325 [1:15:29<00:00, 17.02it/s, now=None]\u001b[A\u001b[A\n",
      "\n",
      "\u001b[A\u001b[A                                                                                                                 \n",
      "\n",
      "t:  96%|██████████████████████████████████████████████████████████████▌  | 313/325 [1:15:29<00:00, 17.02it/s, now=None]\u001b[A\u001b[A"
     ]
    },
    {
     "name": "stdout",
     "output_type": "stream",
     "text": [
      "Moviepy - Done !\n",
      "Moviepy - video ready D:/sign2text/data/seasons6\\22.mp4\n"
     ]
    },
    {
     "name": "stderr",
     "output_type": "stream",
     "text": [
      "\n",
      "\n",
      "\u001b[A\u001b[A                                                                                                                 \n",
      "\n",
      "t:  96%|██████████████████████████████████████████████████████████████▌  | 313/325 [1:15:30<00:00, 17.02it/s, now=None]\u001b[A\u001b[A\n",
      "\n",
      "\u001b[A\u001b[A                                                                                                                 \n",
      "\n",
      "t:  96%|██████████████████████████████████████████████████████████████▌  | 313/325 [1:15:30<00:00, 17.02it/s, now=None]\u001b[A\u001b[A"
     ]
    },
    {
     "name": "stdout",
     "output_type": "stream",
     "text": [
      "Moviepy - Building video D:/sign2text/data/seasons6\\23.mp4.\n",
      "Moviepy - Writing video D:/sign2text/data/seasons6\\23.mp4\n",
      "\n"
     ]
    },
    {
     "name": "stderr",
     "output_type": "stream",
     "text": [
      "                                                                                                                       \n",
      "\n",
      "\u001b[A\u001b[A                                                                                                                 \n",
      "\n",
      "t:  96%|██████████████████████████████████████████████████████████████▌  | 313/325 [1:15:43<00:00, 17.02it/s, now=None]\u001b[A\u001b[A\n",
      "\n",
      "\u001b[A\u001b[A                                                                                                                 \n",
      "\n",
      "t:  96%|██████████████████████████████████████████████████████████████▌  | 313/325 [1:15:43<00:00, 17.02it/s, now=None]\u001b[A\u001b[A"
     ]
    },
    {
     "name": "stdout",
     "output_type": "stream",
     "text": [
      "Moviepy - Done !\n",
      "Moviepy - video ready D:/sign2text/data/seasons6\\23.mp4\n"
     ]
    },
    {
     "name": "stderr",
     "output_type": "stream",
     "text": [
      "\n",
      "\n",
      "\u001b[A\u001b[A                                                                                                                 \n",
      "\n",
      "t:  96%|██████████████████████████████████████████████████████████████▌  | 313/325 [1:15:44<00:00, 17.02it/s, now=None]\u001b[A\u001b[A\n",
      "\n",
      "\u001b[A\u001b[A                                                                                                                 \n",
      "\n",
      "t:  96%|██████████████████████████████████████████████████████████████▌  | 313/325 [1:15:44<00:00, 17.02it/s, now=None]\u001b[A\u001b[A"
     ]
    },
    {
     "name": "stdout",
     "output_type": "stream",
     "text": [
      "Moviepy - Building video D:/sign2text/data/seasons6\\24.mp4.\n",
      "Moviepy - Writing video D:/sign2text/data/seasons6\\24.mp4\n",
      "\n"
     ]
    },
    {
     "name": "stderr",
     "output_type": "stream",
     "text": [
      "                                                                                                                       \n",
      "\n",
      "\u001b[A\u001b[A                                                                                                                 \n",
      "\n",
      "t:  96%|██████████████████████████████████████████████████████████████▌  | 313/325 [1:16:06<00:00, 17.02it/s, now=None]\u001b[A\u001b[A\n",
      "\n",
      "\u001b[A\u001b[A                                                                                                                 \n",
      "\n",
      "t:  96%|██████████████████████████████████████████████████████████████▌  | 313/325 [1:16:06<00:00, 17.02it/s, now=None]\u001b[A\u001b[A"
     ]
    },
    {
     "name": "stdout",
     "output_type": "stream",
     "text": [
      "Moviepy - Done !\n",
      "Moviepy - video ready D:/sign2text/data/seasons6\\24.mp4\n"
     ]
    },
    {
     "name": "stderr",
     "output_type": "stream",
     "text": [
      "\n",
      "\n",
      "\u001b[A\u001b[A                                                                                                                 \n",
      "\n",
      "t:  96%|██████████████████████████████████████████████████████████████▌  | 313/325 [1:16:06<00:00, 17.02it/s, now=None]\u001b[A\u001b[A\n",
      "\n",
      "\u001b[A\u001b[A                                                                                                                 \n",
      "\n",
      "t:  96%|██████████████████████████████████████████████████████████████▌  | 313/325 [1:16:06<00:00, 17.02it/s, now=None]\u001b[A\u001b[A"
     ]
    },
    {
     "name": "stdout",
     "output_type": "stream",
     "text": [
      "Moviepy - Building video D:/sign2text/data/seasons6\\25.mp4.\n",
      "Moviepy - Writing video D:/sign2text/data/seasons6\\25.mp4\n",
      "\n"
     ]
    },
    {
     "name": "stderr",
     "output_type": "stream",
     "text": [
      "                                                                                                                       \n",
      "\n",
      "\u001b[A\u001b[A                                                                                                                 \n",
      "\n",
      "t:  96%|██████████████████████████████████████████████████████████████▌  | 313/325 [1:16:25<00:00, 17.02it/s, now=None]\u001b[A\u001b[A\n",
      "\n",
      "\u001b[A\u001b[A                                                                                                                 \n",
      "\n",
      "t:  96%|██████████████████████████████████████████████████████████████▌  | 313/325 [1:16:25<00:00, 17.02it/s, now=None]\u001b[A\u001b[A"
     ]
    },
    {
     "name": "stdout",
     "output_type": "stream",
     "text": [
      "Moviepy - Done !\n",
      "Moviepy - video ready D:/sign2text/data/seasons6\\25.mp4\n"
     ]
    },
    {
     "name": "stderr",
     "output_type": "stream",
     "text": [
      "\n",
      "\n",
      "\u001b[A\u001b[A                                                                                                                 \n",
      "\n",
      "t:  96%|██████████████████████████████████████████████████████████████▌  | 313/325 [1:16:26<00:00, 17.02it/s, now=None]\u001b[A\u001b[A\n",
      "\n",
      "\u001b[A\u001b[A                                                                                                                 \n",
      "\n",
      "t:  96%|██████████████████████████████████████████████████████████████▌  | 313/325 [1:16:26<00:00, 17.02it/s, now=None]\u001b[A\u001b[A"
     ]
    },
    {
     "name": "stdout",
     "output_type": "stream",
     "text": [
      "Moviepy - Building video D:/sign2text/data/seasons6\\26.mp4.\n",
      "Moviepy - Writing video D:/sign2text/data/seasons6\\26.mp4\n",
      "\n"
     ]
    },
    {
     "name": "stderr",
     "output_type": "stream",
     "text": [
      "                                                                                                                       \n",
      "\n",
      "\u001b[A\u001b[A                                                                                                                 \n",
      "\n",
      "t:  96%|██████████████████████████████████████████████████████████████▌  | 313/325 [1:16:38<00:00, 17.02it/s, now=None]\u001b[A\u001b[A\n",
      "\n",
      "\u001b[A\u001b[A                                                                                                                 \n",
      "\n",
      "t:  96%|██████████████████████████████████████████████████████████████▌  | 313/325 [1:16:38<00:00, 17.02it/s, now=None]\u001b[A\u001b[A"
     ]
    },
    {
     "name": "stdout",
     "output_type": "stream",
     "text": [
      "Moviepy - Done !\n",
      "Moviepy - video ready D:/sign2text/data/seasons6\\26.mp4\n"
     ]
    },
    {
     "name": "stderr",
     "output_type": "stream",
     "text": [
      "\n",
      "\n",
      "\u001b[A\u001b[A                                                                                                                 \n",
      "\n",
      "t:  96%|██████████████████████████████████████████████████████████████▌  | 313/325 [1:16:39<00:00, 17.02it/s, now=None]\u001b[A\u001b[A\n",
      "\n",
      "\u001b[A\u001b[A                                                                                                                 \n",
      "\n",
      "t:  96%|██████████████████████████████████████████████████████████████▌  | 313/325 [1:16:39<00:00, 17.02it/s, now=None]\u001b[A\u001b[A"
     ]
    },
    {
     "name": "stdout",
     "output_type": "stream",
     "text": [
      "Moviepy - Building video D:/sign2text/data/seasons6\\27.mp4.\n",
      "Moviepy - Writing video D:/sign2text/data/seasons6\\27.mp4\n",
      "\n"
     ]
    },
    {
     "name": "stderr",
     "output_type": "stream",
     "text": [
      "                                                                                                                       \n",
      "\n",
      "\u001b[A\u001b[A                                                                                                                 \n",
      "\n",
      "t:  96%|██████████████████████████████████████████████████████████████▌  | 313/325 [1:16:54<00:00, 17.02it/s, now=None]\u001b[A\u001b[A\n",
      "\n",
      "\u001b[A\u001b[A                                                                                                                 \n",
      "\n",
      "t:  96%|██████████████████████████████████████████████████████████████▌  | 313/325 [1:16:54<00:00, 17.02it/s, now=None]\u001b[A\u001b[A"
     ]
    },
    {
     "name": "stdout",
     "output_type": "stream",
     "text": [
      "Moviepy - Done !\n",
      "Moviepy - video ready D:/sign2text/data/seasons6\\27.mp4\n"
     ]
    }
   ],
   "source": [
    "from moviepy.video.io.VideoFileClip import VideoFileClip\n",
    "from moviepy.audio.io.AudioFileClip import AudioFileClip\n",
    "from moviepy.video.fx.rotate import rotate\n",
    "import os\n",
    "\n",
    "# Load the video file\n",
    "input_file_path = \"D:/sign2text/data/proper2.MP4\"\n",
    "\n",
    "# Define the start and end times for each chunk\n",
    "# chunks = [(3,4), (5,8), (9,11), (12,13), (14,16), (17,19), (19,22), (23,25), (26,29), (30,33), (34,36), (40,42), (43,45), (46,47), (48,50)] \n",
    "\n",
    "# start=[2,4,8,11,13,15,18,20,22,25,27,30,32,34,35] #clip 4\n",
    "# end=[4,6,10,12,15,18,20,23,25,28,30,32,34,35,38]\n",
    "\n",
    "# start=[0,2,4,7,8,10,12,14,16,17,20,22,24,25,27] #clip5\n",
    "# end=[2,4,7,8,10,12,14,16,17,20,22,24,25,27,29]\n",
    "\n",
    "chunks=[(9,14.5),  (15.5,19.5),  (20.5,25),  (25.5,31.5), (31.5,35.5), (35.5,39.5),\n",
    "        \n",
    "        (39,43), (43,45.5),(45,47.5),(47.5,50.5),(50.5,52.5),(52,56),\n",
    "        \n",
    "        (56,59.5),(59.5,61.5),(61.5,65),(65,68),(68,70), (70,73.5),\n",
    "        \n",
    "        (73.5,77),(77,80.5),(80.5,83.5),(83.5,88.5),(88.5,91),(91,95),\n",
    "        \n",
    "        (95,98.5),(98.5,100.5),(100.5,103.5)]  #clip 6\n",
    "\n",
    "# path=\"D:/sign2text/data\"\n",
    "\n",
    "path2=\"D:/sign2text/data/seasons6\"\n",
    "\n",
    "# Create the folder for the video chunks\n",
    "if not os.path.exists(path2):\n",
    "    os.mkdir(path2)\n",
    "    \n",
    "# Extract each chunk from the video, mute the audio, and rotate it 90 degrees clockwise\n",
    "# for i, (start_time, end_time) in enumerate(zip(start,end)):\n",
    "for i, (start_time, end_time) in enumerate(chunks):\n",
    "    filename = os.path.join(path2, f\"{i+1}.mp4\")\n",
    "    # Open the input video file clip and extract the chunk between the start and end times\n",
    "    video_clip = VideoFileClip(input_file_path)\n",
    "    if start_time is not None and end_time is not None:\n",
    "        video_chunk = video_clip.subclip(start_time, end_time)\n",
    "    elif start_time is not None:\n",
    "        video_chunk = video_clip.subclip(start_time)\n",
    "    elif end_time is not None:\n",
    "        video_chunk = video_clip.subclip(0, end_time)\n",
    "    else:\n",
    "        video_chunk = video_clip \n",
    "        \n",
    "    muted_chunk = video_chunk.set_audio(None)\n",
    "    rotated_chunk = rotate(muted_chunk, -90)\n",
    "    rotated_chunk.write_videofile(filename, codec='libx264')\n"
   ]
  },
  {
   "cell_type": "markdown",
   "id": "da58c385",
   "metadata": {},
   "source": [
    "## for individual chunk correction"
   ]
  },
  {
   "cell_type": "code",
   "execution_count": 40,
   "id": "9c2c79a1",
   "metadata": {
    "scrolled": false
   },
   "outputs": [
    {
     "name": "stderr",
     "output_type": "stream",
     "text": [
      "\n",
      "                                                                                                                       \n",
      "\n",
      "\u001b[A\u001b[A                                                                                                                 \n",
      "\n",
      "\n",
      "\u001b[A\u001b[A\u001b[A                                                                                                              \n",
      "t:  99%|████████████████████████████████████████████████████████████████▎| 175/177 [5:46:50<00:00, 12.28it/s, now=None]\u001b[A\n",
      "\n",
      "t:   2%|█▍                                                                   | 3/148 [05:37<00:05, 25.39it/s, now=None]\u001b[A\u001b[A\n",
      "\n",
      "\n",
      "t:  88%|██████████████████████████████████████████████████████████▊        | 130/148 [05:16<00:00, 18.13it/s, now=None]\u001b[A\u001b[A\u001b[A\n",
      "                                                                                                                       \n",
      "\n",
      "\u001b[A\u001b[A                                                                                                                 \n",
      "\n",
      "\n",
      "\u001b[A\u001b[A\u001b[A                                                                                                              \n",
      "t:  99%|████████████████████████████████████████████████████████████████▎| 175/177 [5:46:50<00:00, 12.28it/s, now=None]\u001b[A\n",
      "\n",
      "t:   2%|█▍                                                                   | 3/148 [05:37<00:05, 25.39it/s, now=None]\u001b[A\u001b[A\n",
      "\n",
      "\n",
      "t:  88%|██████████████████████████████████████████████████████████▊        | 130/148 [05:16<00:00, 18.13it/s, now=None]\u001b[A\u001b[A\u001b[A"
     ]
    },
    {
     "name": "stdout",
     "output_type": "stream",
     "text": [
      "Moviepy - Building video D:/sign2text/data/swara5\\12.mp4.\n",
      "Moviepy - Writing video D:/sign2text/data/swara5\\12.mp4\n",
      "\n"
     ]
    },
    {
     "name": "stderr",
     "output_type": "stream",
     "text": [
      "\n",
      "\n",
      "\n",
      "\n",
      "t:   0%|                                                                              | 0/89 [00:00<?, ?it/s, now=None]\u001b[A\u001b[A\u001b[A\u001b[A\n",
      "\n",
      "\n",
      "\n",
      "t:   3%|██▎                                                                   | 3/89 [00:00<00:03, 25.78it/s, now=None]\u001b[A\u001b[A\u001b[A\u001b[A\n",
      "\n",
      "\n",
      "\n",
      "t:   8%|█████▌                                                                | 7/89 [00:00<00:03, 26.92it/s, now=None]\u001b[A\u001b[A\u001b[A\u001b[A\n",
      "\n",
      "\n",
      "\n",
      "t:  11%|███████▊                                                             | 10/89 [00:00<00:02, 27.53it/s, now=None]\u001b[A\u001b[A\u001b[A\u001b[A\n",
      "\n",
      "\n",
      "\n",
      "t:  15%|██████████                                                           | 13/89 [00:00<00:02, 27.83it/s, now=None]\u001b[A\u001b[A\u001b[A\u001b[A\n",
      "\n",
      "\n",
      "\n",
      "t:  18%|████████████▍                                                        | 16/89 [00:00<00:02, 27.65it/s, now=None]\u001b[A\u001b[A\u001b[A\u001b[A\n",
      "\n",
      "\n",
      "\n",
      "t:  21%|██████████████▋                                                      | 19/89 [00:00<00:02, 27.84it/s, now=None]\u001b[A\u001b[A\u001b[A\u001b[A\n",
      "\n",
      "\n",
      "\n",
      "t:  25%|█████████████████                                                    | 22/89 [00:00<00:02, 28.14it/s, now=None]\u001b[A\u001b[A\u001b[A\u001b[A\n",
      "\n",
      "\n",
      "\n",
      "t:  28%|███████████████████▍                                                 | 25/89 [00:00<00:02, 25.80it/s, now=None]\u001b[A\u001b[A\u001b[A\u001b[A\n",
      "\n",
      "\n",
      "\n",
      "t:  31%|█████████████████████▋                                               | 28/89 [00:01<00:02, 25.78it/s, now=None]\u001b[A\u001b[A\u001b[A\u001b[A\n",
      "\n",
      "\n",
      "\n",
      "t:  35%|████████████████████████                                             | 31/89 [00:01<00:02, 26.75it/s, now=None]\u001b[A\u001b[A\u001b[A\u001b[A\n",
      "\n",
      "\n",
      "\n",
      "t:  38%|██████████████████████████▎                                          | 34/89 [00:01<00:02, 25.49it/s, now=None]\u001b[A\u001b[A\u001b[A\u001b[A\n",
      "\n",
      "\n",
      "\n",
      "t:  42%|████████████████████████████▋                                        | 37/89 [00:01<00:02, 25.58it/s, now=None]\u001b[A\u001b[A\u001b[A\u001b[A\n",
      "\n",
      "\n",
      "\n",
      "t:  45%|███████████████████████████████                                      | 40/89 [00:01<00:01, 25.57it/s, now=None]\u001b[A\u001b[A\u001b[A\u001b[A\n",
      "\n",
      "\n",
      "\n",
      "t:  48%|█████████████████████████████████▎                                   | 43/89 [00:01<00:01, 26.69it/s, now=None]\u001b[A\u001b[A\u001b[A\u001b[A\n",
      "\n",
      "\n",
      "\n",
      "t:  52%|███████████████████████████████████▋                                 | 46/89 [00:01<00:01, 25.46it/s, now=None]\u001b[A\u001b[A\u001b[A\u001b[A\n",
      "\n",
      "\n",
      "\n",
      "t:  55%|█████████████████████████████████████▉                               | 49/89 [00:01<00:01, 22.61it/s, now=None]\u001b[A\u001b[A\u001b[A\u001b[A\n",
      "\n",
      "\n",
      "\n",
      "t:  58%|████████████████████████████████████████▎                            | 52/89 [00:02<00:01, 21.08it/s, now=None]\u001b[A\u001b[A\u001b[A\u001b[A\n",
      "\n",
      "\n",
      "\n",
      "t:  62%|██████████████████████████████████████████▋                          | 55/89 [00:02<00:01, 20.05it/s, now=None]\u001b[A\u001b[A\u001b[A\u001b[A\n",
      "\n",
      "\n",
      "\n",
      "t:  65%|████████████████████████████████████████████▉                        | 58/89 [00:02<00:01, 20.67it/s, now=None]\u001b[A\u001b[A\u001b[A\u001b[A\n",
      "\n",
      "\n",
      "\n",
      "t:  69%|███████████████████████████████████████████████▎                     | 61/89 [00:02<00:01, 21.02it/s, now=None]\u001b[A\u001b[A\u001b[A\u001b[A\n",
      "\n",
      "\n",
      "\n",
      "t:  72%|█████████████████████████████████████████████████▌                   | 64/89 [00:02<00:01, 20.88it/s, now=None]\u001b[A\u001b[A\u001b[A\u001b[A\n",
      "\n",
      "\n",
      "\n",
      "t:  75%|███████████████████████████████████████████████████▉                 | 67/89 [00:02<00:01, 21.29it/s, now=None]\u001b[A\u001b[A\u001b[A\u001b[A\n",
      "\n",
      "\n",
      "\n",
      "t:  79%|██████████████████████████████████████████████████████▎              | 70/89 [00:02<00:00, 22.40it/s, now=None]\u001b[A\u001b[A\u001b[A\u001b[A\n",
      "\n",
      "\n",
      "\n",
      "t:  82%|████████████████████████████████████████████████████████▌            | 73/89 [00:03<00:00, 22.37it/s, now=None]\u001b[A\u001b[A\u001b[A\u001b[A\n",
      "\n",
      "\n",
      "\n",
      "t:  85%|██████████████████████████████████████████████████████████▉          | 76/89 [00:03<00:00, 20.99it/s, now=None]\u001b[A\u001b[A\u001b[A\u001b[A\n",
      "\n",
      "\n",
      "\n",
      "t:  89%|█████████████████████████████████████████████████████████████▏       | 79/89 [00:03<00:00, 21.38it/s, now=None]\u001b[A\u001b[A\u001b[A\u001b[A\n",
      "\n",
      "\n",
      "\n",
      "t:  92%|███████████████████████████████████████████████████████████████▌     | 82/89 [00:03<00:00, 21.02it/s, now=None]\u001b[A\u001b[A\u001b[A\u001b[A\n",
      "\n",
      "\n",
      "\n",
      "t:  96%|█████████████████████████████████████████████████████████████████▉   | 85/89 [00:03<00:00, 20.67it/s, now=None]\u001b[A\u001b[A\u001b[A\u001b[A\n",
      "\n",
      "\n",
      "\n",
      "t:  99%|████████████████████████████████████████████████████████████████████▏| 88/89 [00:03<00:00, 19.79it/s, now=None]\u001b[A\u001b[A\u001b[A\u001b[A\n",
      "\n",
      "\n",
      "\n",
      "                                                                                                                       \u001b[A\u001b[A\u001b[A\u001b[A\n",
      "                                                                                                                       \n",
      "\n",
      "\u001b[A\u001b[A                                                                                                                 \n",
      "\n",
      "\n",
      "\u001b[A\u001b[A\u001b[A                                                                                                              \n",
      "t:  99%|████████████████████████████████████████████████████████████████▎| 175/177 [5:46:55<00:00, 12.28it/s, now=None]\u001b[A\n",
      "\n",
      "t:   2%|█▍                                                                   | 3/148 [05:42<00:05, 25.39it/s, now=None]\u001b[A\u001b[A\n",
      "\n",
      "\n",
      "t:  88%|██████████████████████████████████████████████████████████▊        | 130/148 [05:22<00:00, 18.13it/s, now=None]\u001b[A\u001b[A\u001b[A\n",
      "                                                                                                                       \n",
      "\n",
      "\u001b[A\u001b[A                                                                                                                 \n",
      "\n",
      "\n",
      "\u001b[A\u001b[A\u001b[A                                                                                                              \n",
      "t:  99%|████████████████████████████████████████████████████████████████▎| 175/177 [5:46:55<00:00, 12.28it/s, now=None]\u001b[A\n",
      "\n",
      "t:   2%|█▍                                                                   | 3/148 [05:42<00:05, 25.39it/s, now=None]\u001b[A\u001b[A\n",
      "\n",
      "\n",
      "t:  88%|██████████████████████████████████████████████████████████▊        | 130/148 [05:22<00:00, 18.13it/s, now=None]\u001b[A\u001b[A\u001b[A"
     ]
    },
    {
     "name": "stdout",
     "output_type": "stream",
     "text": [
      "Moviepy - Done !\n",
      "Moviepy - video ready D:/sign2text/data/swara5\\12.mp4\n"
     ]
    }
   ],
   "source": [
    "from moviepy.video.io.VideoFileClip import VideoFileClip\n",
    "from moviepy.audio.io.AudioFileClip import AudioFileClip\n",
    "from moviepy.video.fx.rotate import rotate\n",
    "import os\n",
    "\n",
    "# Load the video file\n",
    "input_file_path = \"D:/sign2text/data/proper2.mp4\"\n",
    "\n",
    "# Define the start and end times for each chunk\n",
    "# chunks_1 = [(3,4), (5,8), (9,11), (12,13), (14,16), (17,19), (19,22), (23,25), (26,29), (30,33), (34,36), (40,42), (43,45), (46,47), (48,50)] \n",
    "\n",
    "# start=[2,4,8,11,13,15,18,20,22,25,27,30,32,34,35] #clip 4\n",
    "# end=[4,6,10,12,15,18,20,23,25,28,30,32,34,35,38]\n",
    "\n",
    "# start=[0,2,4,7,8,10,12,14,16,17,20,22,24,25,27]\n",
    "# end=[2,4,7,8,10,12,14,16,17,20,22,24,25,27,29] #clip5\n",
    "\n",
    "start=[24.5]\n",
    "end=[26]\n",
    "\n",
    "# path=\"D:/sign2text/data\"\n",
    "\n",
    "path2=\"D:/sign2text/data/swara5\"\n",
    "\n",
    "# Create the folder for the video chunks\n",
    "if not os.path.exists(path2):\n",
    "    os.mkdir(path2)\n",
    "    \n",
    "# Extract each chunk from the video, mute the audio, and rotate it 90 degrees clockwise\n",
    "for i, (start_time, end_time) in enumerate((start,end)):\n",
    "    filename = os.path.join(path2, f\"{i+12}.mp4\")\n",
    "    # Open the input video file clip and extract the chunk between the start and end times\n",
    "    video_clip = VideoFileClip(input_file_path)\n",
    "    if start_time is not None and end_time is not None:\n",
    "        video_chunk = video_clip.subclip(start_time, end_time)\n",
    "    elif start_time is not None:\n",
    "        video_chunk = video_clip.subclip(start_time)\n",
    "    elif end_time is not None:\n",
    "        video_chunk = video_clip.subclip(0, end_time)\n",
    "    else:\n",
    "        video_chunk = video_clip \n",
    "        \n",
    "    muted_chunk = video_chunk.set_audio(None)\n",
    "    rotated_chunk = rotate(muted_chunk, -90)\n",
    "    rotated_chunk.write_videofile(filename, codec='libx264')"
   ]
  },
  {
   "cell_type": "markdown",
   "id": "ba7a35f9",
   "metadata": {},
   "source": [
    "## Change frame size and frame speed"
   ]
  },
  {
   "cell_type": "code",
   "execution_count": null,
   "id": "290c1364",
   "metadata": {},
   "outputs": [],
   "source": [
    "from moviepy.editor import *\n",
    "import os\n",
    "\n",
    "# Set the input and output directories\n",
    "input_dir = \"D:/sign2text/data/swara1\"\n",
    "output_dir =\"D:/sign2text/data/swara1_resized\"\n",
    "\n",
    "# Set the desired output size\n",
    "output_size = (1280, 720)\n",
    "\n",
    "# Set the Lanczos interpolation order\n",
    "interpolation_order = 'lanczos'\n",
    "\n",
    "# Create the output directory if it does not exist\n",
    "if not os.path.exists(output_dir):\n",
    "    os.makedirs(output_dir)\n",
    "\n",
    "# Loop through all the files in the input directory\n",
    "for file_name in os.listdir(input_dir):\n",
    "    # Check if the file is a video\n",
    "    if file_name.endswith('.mp4') or file_name.endswith('.avi'):\n",
    "        # Set the input and output file paths\n",
    "        input_path = os.path.join(input_dir, file_name)\n",
    "        output_path = os.path.join(output_dir, file_name)\n",
    "        \n",
    "        # Open the input video\n",
    "        input_video = VideoFileClip(input_path)\n",
    "        \n",
    "        # Resize the video\n",
    "        resized_video = input_video.resize(output_size, method=interpolation_order)\n",
    "        \n",
    "        # Write the resized video to the output file\n",
    "        resized_video.write_videofile(output_path, codec='libx264')\n",
    "        \n",
    "        # Print a message indicating that the video has been resized\n",
    "        print(f'Resized {file_name} to {output_size} using Lanczos method')\n"
   ]
  },
  {
   "cell_type": "code",
   "execution_count": null,
   "id": "8891f9e0",
   "metadata": {},
   "outputs": [],
   "source": []
  },
  {
   "cell_type": "markdown",
   "id": "373a2837",
   "metadata": {},
   "source": [
    "## play a video"
   ]
  },
  {
   "cell_type": "code",
   "execution_count": 13,
   "id": "2175a583",
   "metadata": {},
   "outputs": [],
   "source": [
    "import cv2\n",
    "\n",
    "# Load video file\n",
    "cap = cv2.VideoCapture('D:\\sign2text\\data\\C0001.MP4')\n",
    "\n",
    "# Check if video file was successfully opened\n",
    "if not cap.isOpened():\n",
    "    print(\"Error opening video file\")\n",
    "\n",
    "# Loop through frames of video\n",
    "while cap.isOpened():\n",
    "    # Read next frame from video\n",
    "    ret, frame = cap.read()\n",
    "\n",
    "    # If frame was successfully read\n",
    "    if ret:\n",
    "        # Display frame in window\n",
    "        cv2.imshow('Video', frame)\n",
    "\n",
    "        # Wait for user to press 'q' key to exit\n",
    "        if cv2.waitKey(25) & 0xFF == ord('q'):\n",
    "            break\n",
    "    # If frame could not be read, exit loop\n",
    "    else:\n",
    "        break\n",
    "\n",
    "# Release resources\n",
    "cap.release()\n",
    "cv2.destroyAllWindows()"
   ]
  },
  {
   "cell_type": "markdown",
   "id": "09cf64aa",
   "metadata": {
    "scrolled": true
   },
   "source": [
    "## move a video to different folder"
   ]
  },
  {
   "cell_type": "code",
   "execution_count": null,
   "id": "4ad5f2ad",
   "metadata": {},
   "outputs": [],
   "source": []
  },
  {
   "cell_type": "code",
   "execution_count": null,
   "id": "5b10aca8",
   "metadata": {},
   "outputs": [],
   "source": []
  },
  {
   "cell_type": "markdown",
   "id": "55861ebb",
   "metadata": {},
   "source": [
    "## Change frame size and frame speed"
   ]
  },
  {
   "cell_type": "markdown",
   "id": "b54ede99",
   "metadata": {},
   "source": [
    "### for single video"
   ]
  },
  {
   "cell_type": "code",
   "execution_count": 13,
   "id": "8e260d3a",
   "metadata": {},
   "outputs": [
    {
     "ename": "AttributeError",
     "evalue": "'VideoFileClip' object has no attribute 'read'",
     "output_type": "error",
     "traceback": [
      "\u001b[1;31m---------------------------------------------------------------------------\u001b[0m",
      "\u001b[1;31mAttributeError\u001b[0m                            Traceback (most recent call last)",
      "\u001b[1;32m~\\AppData\\Local\\Temp/ipykernel_22364/2339110596.py\u001b[0m in \u001b[0;36m<module>\u001b[1;34m\u001b[0m\n\u001b[0;32m     26\u001b[0m \u001b[1;33m\u001b[0m\u001b[0m\n\u001b[0;32m     27\u001b[0m \u001b[1;32mwhile\u001b[0m \u001b[1;32mTrue\u001b[0m\u001b[1;33m:\u001b[0m\u001b[1;33m\u001b[0m\u001b[1;33m\u001b[0m\u001b[0m\n\u001b[1;32m---> 28\u001b[1;33m     \u001b[0mret\u001b[0m\u001b[1;33m,\u001b[0m \u001b[0mframe\u001b[0m \u001b[1;33m=\u001b[0m \u001b[0mcap\u001b[0m\u001b[1;33m.\u001b[0m\u001b[0mread\u001b[0m\u001b[1;33m(\u001b[0m\u001b[1;33m)\u001b[0m\u001b[1;33m\u001b[0m\u001b[1;33m\u001b[0m\u001b[0m\n\u001b[0m\u001b[0;32m     29\u001b[0m     \u001b[1;32mif\u001b[0m \u001b[0mret\u001b[0m \u001b[1;33m==\u001b[0m \u001b[1;32mTrue\u001b[0m\u001b[1;33m:\u001b[0m\u001b[1;33m\u001b[0m\u001b[1;33m\u001b[0m\u001b[0m\n\u001b[0;32m     30\u001b[0m         \u001b[0mb\u001b[0m \u001b[1;33m=\u001b[0m \u001b[0mcv2\u001b[0m\u001b[1;33m.\u001b[0m\u001b[0mresize\u001b[0m\u001b[1;33m(\u001b[0m\u001b[0mframe\u001b[0m\u001b[1;33m,\u001b[0m\u001b[1;33m(\u001b[0m\u001b[1;36m1280\u001b[0m\u001b[1;33m,\u001b[0m\u001b[1;36m720\u001b[0m\u001b[1;33m)\u001b[0m\u001b[1;33m,\u001b[0m\u001b[0mfx\u001b[0m\u001b[1;33m=\u001b[0m\u001b[1;36m0\u001b[0m\u001b[1;33m,\u001b[0m\u001b[0mfy\u001b[0m\u001b[1;33m=\u001b[0m\u001b[1;36m0\u001b[0m\u001b[1;33m,\u001b[0m \u001b[0minterpolation\u001b[0m \u001b[1;33m=\u001b[0m \u001b[0mcv2\u001b[0m\u001b[1;33m.\u001b[0m\u001b[0mINTER_CUBIC\u001b[0m\u001b[1;33m)\u001b[0m\u001b[1;33m\u001b[0m\u001b[1;33m\u001b[0m\u001b[0m\n",
      "\u001b[1;31mAttributeError\u001b[0m: 'VideoFileClip' object has no attribute 'read'"
     ]
    }
   ],
   "source": [
    "# from moviepy.editor import *\n",
    "# from moviepy.video.io.VideoFileClip import VideoFileClip\n",
    "# from moviepy.audio.io.AudioFileClip import AudioFileClip\n",
    "# from moviepy.video.fx.rotate import rotate\n",
    "\n",
    "# # Load the video file\n",
    "# video = VideoFileClip(\"D:\\sign2text\\data\\C0003.MP4\")\n",
    "\n",
    "# # Set the new size (width, height)\n",
    "# new_size = (1280, 720)\n",
    "\n",
    "# # Resize the video using Lanczos filter\n",
    "# resized_video = video.resize(new_size) #bicubic\n",
    "\n",
    "# # Write the resized video to a file with high bitrate and quality\n",
    "# resized_video.write_videofile(\"D:\\sign2text\\data\\size.MP4\", fps=30, preset=\"veryfast\", audio=False)\n",
    "\n"
   ]
  },
  {
   "cell_type": "code",
   "execution_count": 12,
   "id": "9664ea0d",
   "metadata": {},
   "outputs": [],
   "source": [
    "import cv2\n",
    "\n",
    "# Load the input video\n",
    "input_video = cv2.VideoCapture('D:/sign2text/data/proper2.MP4')\n",
    "\n",
    "# Get the video properties\n",
    "frame_count = int(input_video.get(cv2.CAP_PROP_FRAME_COUNT))\n",
    "fps = int(input_video.get(cv2.CAP_PROP_FPS))\n",
    "width = int(input_video.get(cv2.CAP_PROP_FRAME_WIDTH))\n",
    "height = int(input_video.get(cv2.CAP_PROP_FRAME_HEIGHT))\n",
    "\n",
    "# Define the ROI (region of interest)\n",
    "x, y= 300,0\n",
    "w, h = 1920-x, 1080-y\n",
    "\n",
    "# Define the output video codec and create the output video writer\n",
    "fourcc = cv2.VideoWriter_fourcc(*'mp4v')\n",
    "output_video = cv2.VideoWriter('D:/sign2text/data/proper3.MP4', fourcc, fps, (w, h))\n",
    "\n",
    "# Loop through the frames of the input video, extract the ROI, and write to the output video\n",
    "for i in range(frame_count):\n",
    "    ret, frame = input_video.read()\n",
    "    if ret:\n",
    "        roi = frame[y:y+h, x:x+w]\n",
    "        output_video.write(roi)\n",
    "    else:\n",
    "        break\n",
    "\n",
    "# Release the input and output video objects\n",
    "input_video.release()\n",
    "output_video.release()\n"
   ]
  },
  {
   "cell_type": "code",
   "execution_count": 7,
   "id": "40134143",
   "metadata": {},
   "outputs": [
    {
     "name": "stdout",
     "output_type": "stream",
     "text": [
      "Moviepy - Building video D:\\sign2text\\data\\size.MP4.\n",
      "Moviepy - Writing video D:\\sign2text\\data\\size.MP4\n",
      "\n"
     ]
    },
    {
     "name": "stderr",
     "output_type": "stream",
     "text": [
      "                                                                                                                       "
     ]
    },
    {
     "name": "stdout",
     "output_type": "stream",
     "text": [
      "Moviepy - Done !\n",
      "Moviepy - video ready D:\\sign2text\\data\\size.MP4\n"
     ]
    },
    {
     "name": "stderr",
     "output_type": "stream",
     "text": [
      "\r"
     ]
    }
   ],
   "source": []
  },
  {
   "cell_type": "code",
   "execution_count": null,
   "id": "723a81ff",
   "metadata": {},
   "outputs": [],
   "source": [
    "from moviepy.video.io.VideoFileClip import VideoFileClip\n",
    "import os\n",
    "\n",
    "# Path to the folder containing videos\n",
    "folder_path = '/path/to/folder'\n",
    "\n",
    "# Width and height to resize the videos to\n",
    "new_width = 640\n",
    "new_height = 480\n",
    "\n",
    "# Loop through all the files in the folder\n",
    "for filename in os.listdir(folder_path):\n",
    "    # Check if the file is a video file\n",
    "    if filename.endswith('.mp4') or filename.endswith('.avi') or filename.endswith('.mov'):\n",
    "        # Open the video file\n",
    "        video = VideoFileClip(os.path.join(folder_path, filename))\n",
    "        \n",
    "        # Resize the video\n",
    "        resized_video = video.resize((new_width, new_height))\n",
    "        \n",
    "        # Save the resized video\n",
    "        resized_video.write_videofile(os.path.join(folder_path, 'resized_'+filename))\n",
    "        \n",
    "        # Close the video file\n",
    "        video.close()\n"
   ]
  },
  {
   "cell_type": "code",
   "execution_count": 17,
   "id": "cfbb46ab",
   "metadata": {
    "collapsed": true
   },
   "outputs": [
    {
     "name": "stdout",
     "output_type": "stream",
     "text": [
      "Moviepy - Building video D:/sign2text/data/0.MP4.\n",
      "MoviePy - Writing audio in 0TEMP_MPY_wvf_snd.mp3\n"
     ]
    },
    {
     "name": "stderr",
     "output_type": "stream",
     "text": [
      "                                                                                                                       \r"
     ]
    },
    {
     "name": "stdout",
     "output_type": "stream",
     "text": [
      "MoviePy - Done.\n",
      "Moviepy - Writing video D:/sign2text/data/0.MP4\n",
      "\n"
     ]
    },
    {
     "name": "stderr",
     "output_type": "stream",
     "text": [
      "                                                                                                                       \r"
     ]
    },
    {
     "name": "stdout",
     "output_type": "stream",
     "text": [
      "Moviepy - Done !\n",
      "Moviepy - video ready D:/sign2text/data/0.MP4\n"
     ]
    }
   ],
   "source": [
    "from moviepy.video.io.VideoFileClip import VideoFileClip\n",
    "\n",
    "input_video_path = 'D:/sign2text/data/C0001.MP4'\n",
    "output_video_path = 'D:/sign2text/data/0.MP4'\n",
    "\n",
    "t1=0\n",
    "t2=4\n",
    "with VideoFileClip(input_video_path) as video:\n",
    "    new = video.subclip(t1, t2)\n",
    "    new.write_videofile(output_video_path)"
   ]
  },
  {
   "cell_type": "code",
   "execution_count": null,
   "id": "5a76f8b5",
   "metadata": {},
   "outputs": [],
   "source": []
  },
  {
   "cell_type": "code",
   "execution_count": null,
   "id": "8e82d547",
   "metadata": {},
   "outputs": [],
   "source": []
  },
  {
   "cell_type": "code",
   "execution_count": 17,
   "id": "d2eed29c",
   "metadata": {
    "scrolled": true
   },
   "outputs": [
    {
     "ename": "TypeError",
     "evalue": "resize() got an unexpected keyword argument 'resample'",
     "output_type": "error",
     "traceback": [
      "\u001b[1;31m---------------------------------------------------------------------------\u001b[0m",
      "\u001b[1;31mTypeError\u001b[0m                                 Traceback (most recent call last)",
      "\u001b[1;32m~\\AppData\\Local\\Temp/ipykernel_22364/4046106599.py\u001b[0m in \u001b[0;36m<module>\u001b[1;34m\u001b[0m\n\u001b[0;32m     41\u001b[0m \u001b[1;33m\u001b[0m\u001b[0m\n\u001b[0;32m     42\u001b[0m \u001b[1;31m# Resize the clip to 720x480 resolution\u001b[0m\u001b[1;33m\u001b[0m\u001b[1;33m\u001b[0m\u001b[0m\n\u001b[1;32m---> 43\u001b[1;33m \u001b[0mnew_clip\u001b[0m \u001b[1;33m=\u001b[0m \u001b[0mclip\u001b[0m\u001b[1;33m.\u001b[0m\u001b[0mresize\u001b[0m\u001b[1;33m(\u001b[0m\u001b[1;33m(\u001b[0m\u001b[1;36m1280\u001b[0m\u001b[1;33m,\u001b[0m \u001b[1;36m720\u001b[0m\u001b[1;33m)\u001b[0m\u001b[1;33m,\u001b[0m \u001b[0mresample\u001b[0m\u001b[1;33m=\u001b[0m\u001b[1;34m'lanczos'\u001b[0m\u001b[1;33m)\u001b[0m\u001b[1;33m\u001b[0m\u001b[1;33m\u001b[0m\u001b[0m\n\u001b[0m\u001b[0;32m     44\u001b[0m \u001b[1;33m\u001b[0m\u001b[0m\n\u001b[0;32m     45\u001b[0m \u001b[1;31m# Rotate the clip by 90 degrees\u001b[0m\u001b[1;33m\u001b[0m\u001b[1;33m\u001b[0m\u001b[0m\n",
      "\u001b[1;31mTypeError\u001b[0m: resize() got an unexpected keyword argument 'resample'"
     ]
    }
   ],
   "source": [
    "# from moviepy.video.io.VideoFileClip import VideoFileClip\n",
    "\n",
    "\n",
    "# import cv2\n",
    "\n",
    "# # Load the input video\n",
    "# input_video = cv2.VideoCapture('D:/sign2text/data/C0003.MP4')\n",
    "\n",
    "# # Get the video properties\n",
    "# frame_count = int(input_video.get(cv2.CAP_PROP_FRAME_COUNT))\n",
    "# fps = int(input_video.get(cv2.CAP_PROP_FPS))\n",
    "# width = int(input_video.get(cv2.CAP_PROP_FRAME_WIDTH))\n",
    "# height = int(input_video.get(cv2.CAP_PROP_FRAME_HEIGHT))\n",
    "\n",
    "# # Define the ROI (region of interest)\n",
    "# x, y= 300,0\n",
    "# w, h = 1920-x, 1080-y\n",
    "\n",
    "# # Define the output video codec and create the output video writer\n",
    "# fourcc = cv2.VideoWriter_fourcc(*'mp4v')\n",
    "# output_video = cv2.VideoWriter('D:/sign2text/data/proper3.MP4', fourcc, fps, (w, h))\n",
    "\n",
    "# # Loop through the frames of the input video, extract the ROI, and write to the output video\n",
    "# for i in range(frame_count):\n",
    "#     ret, frame = input_video.read()\n",
    "#     if ret:\n",
    "#         roi = frame[y:y+h, x:x+w]\n",
    "#         output_video.write(roi)\n",
    "#     else:\n",
    "#         break\n",
    "\n",
    "# # Release the input and output video objects\n",
    "# input_video.release()\n",
    "# output_video.release()\n",
    "\n",
    "\n",
    "\n",
    "\n",
    "# Load the video clip\n",
    "clip = VideoFileClip(\"D:/sign2text/data/proper3.MP4\")\n",
    "\n",
    "# Resize the clip to 720x480 resolution\n",
    "new_clip = clip.resize((1280, 720), resample='lanczos')\n",
    "\n",
    "# Rotate the clip by 90 degrees\n",
    "rotated_clip = new_clip.rotate(-90)\n",
    "rotated_clip = rotated_clip.set_fps(30)\n",
    "# Write the rotated clip to a new file\n",
    "rotated_clip.write_videofile(\"D:/sign2text/data/p4.MP4\")"
   ]
  }
 ],
 "metadata": {
  "kernelspec": {
   "display_name": "Python 3 (ipykernel)",
   "language": "python",
   "name": "python3"
  },
  "language_info": {
   "codemirror_mode": {
    "name": "ipython",
    "version": 3
   },
   "file_extension": ".py",
   "mimetype": "text/x-python",
   "name": "python",
   "nbconvert_exporter": "python",
   "pygments_lexer": "ipython3",
   "version": "3.9.7"
  }
 },
 "nbformat": 4,
 "nbformat_minor": 5
}
